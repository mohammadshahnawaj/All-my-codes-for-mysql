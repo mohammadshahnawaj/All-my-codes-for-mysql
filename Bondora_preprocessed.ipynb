{
  "cells": [
    {
      "cell_type": "markdown",
      "metadata": {
        "id": "view-in-github",
        "colab_type": "text"
      },
      "source": [
        "<a href=\"https://colab.research.google.com/github/mohammadshahnawaj/All-my-codes-for-mysql/blob/main/Bondora_preprocessed.ipynb\" target=\"_parent\"><img src=\"https://colab.research.google.com/assets/colab-badge.svg\" alt=\"Open In Colab\"/></a>"
      ]
    },
    {
      "cell_type": "markdown",
      "metadata": {
        "id": "fE8HWwrgcOeM"
      },
      "source": [
        "# Bondora Data Preprocessing \n",
        "\n",
        "In this project we will be doing credit risk modelling of peer to peer lending Bondora systems.Data for the study has been retrieved from a publicly available data set of a leading European P2P lending platform  ([**Bondora**](https://www.bondora.com/en/public-reports#dataset-file-format)).The retrieved data is a pool of both defaulted and non-defaulted loans from the time period between **1st March 2009** and **27th January 2020**. The data\n",
        "comprises of demographic and financial information of borrowers, and loan transactions.In P2P lending, loans are typically uncollateralized and lenders seek higher returns as a compensation for the financial risk they take. In addition, they need to make decisions under information asymmetry that works in favor of the borrowers. In order to make rational decisions, lenders want to minimize the risk of default of each lending decision, and realize the return that compensates for the risk.\n",
        "\n",
        "In this notebook we will preprocess the raw dataset and will create new preprocessed csv that can be used for building credit risk models."
      ]
    },
    {
      "cell_type": "code",
      "execution_count": null,
      "metadata": {
        "id": "PxcefcCBcOeb"
      },
      "outputs": [],
      "source": [
        "import numpy as np # linear algebra\n",
        "import pandas as pd # data processing, CSV file I/O (e.g. pd.read_csv)\n",
        "# To display all the columns of dataframe\n",
        "pd.set_option('display.max_columns', 500)\n",
        "import warnings\n",
        "warnings.filterwarnings(\"ignore\")"
      ]
    },
    {
      "cell_type": "code",
      "execution_count": null,
      "metadata": {
        "id": "yhMjLaTdcOe3"
      },
      "outputs": [],
      "source": [
        "df=pd.read_csv('LoanData.csv',low_memory=False)"
      ]
    },
    {
      "cell_type": "code",
      "execution_count": null,
      "metadata": {
        "id": "NRtEcfRBcOe5",
        "outputId": "ef158655-a790-4eb6-e615-afe76f324f8c"
      },
      "outputs": [
        {
          "data": {
            "text/plain": [
              "(134529, 112)"
            ]
          },
          "execution_count": 3,
          "metadata": {},
          "output_type": "execute_result"
        }
      ],
      "source": [
        "df.shape"
      ]
    },
    {
      "cell_type": "code",
      "execution_count": null,
      "metadata": {
        "id": "RTwP9gnjcOe_",
        "outputId": "ba4b0504-217d-497b-ca7a-80a1d1e15277"
      },
      "outputs": [
        {
          "data": {
            "text/plain": [
              "Current    57135\n",
              "Late       45772\n",
              "Repaid     31622\n",
              "Name: Status, dtype: int64"
            ]
          },
          "execution_count": 4,
          "metadata": {},
          "output_type": "execute_result"
        }
      ],
      "source": [
        "df['Status'].value_counts()"
      ]
    },
    {
      "cell_type": "code",
      "execution_count": null,
      "metadata": {
        "id": "5iHWNWnacOfD",
        "outputId": "050396a6-09fc-4ff3-a534-206a31c74707"
      },
      "outputs": [
        {
          "data": {
            "text/html": [
              "<div>\n",
              "<style scoped>\n",
              "    .dataframe tbody tr th:only-of-type {\n",
              "        vertical-align: middle;\n",
              "    }\n",
              "\n",
              "    .dataframe tbody tr th {\n",
              "        vertical-align: top;\n",
              "    }\n",
              "\n",
              "    .dataframe thead th {\n",
              "        text-align: right;\n",
              "    }\n",
              "</style>\n",
              "<table border=\"1\" class=\"dataframe\">\n",
              "  <thead>\n",
              "    <tr style=\"text-align: right;\">\n",
              "      <th></th>\n",
              "      <th>ReportAsOfEOD</th>\n",
              "      <th>LoanId</th>\n",
              "      <th>LoanNumber</th>\n",
              "      <th>ListedOnUTC</th>\n",
              "      <th>BiddingStartedOn</th>\n",
              "      <th>BidsPortfolioManager</th>\n",
              "      <th>BidsApi</th>\n",
              "      <th>BidsManual</th>\n",
              "      <th>UserName</th>\n",
              "      <th>NewCreditCustomer</th>\n",
              "      <th>LoanApplicationStartedDate</th>\n",
              "      <th>LoanDate</th>\n",
              "      <th>ContractEndDate</th>\n",
              "      <th>FirstPaymentDate</th>\n",
              "      <th>MaturityDate_Original</th>\n",
              "      <th>MaturityDate_Last</th>\n",
              "      <th>ApplicationSignedHour</th>\n",
              "      <th>ApplicationSignedWeekday</th>\n",
              "      <th>VerificationType</th>\n",
              "      <th>LanguageCode</th>\n",
              "      <th>Age</th>\n",
              "      <th>DateOfBirth</th>\n",
              "      <th>Gender</th>\n",
              "      <th>Country</th>\n",
              "      <th>AppliedAmount</th>\n",
              "      <th>Amount</th>\n",
              "      <th>Interest</th>\n",
              "      <th>LoanDuration</th>\n",
              "      <th>MonthlyPayment</th>\n",
              "      <th>County</th>\n",
              "      <th>City</th>\n",
              "      <th>UseOfLoan</th>\n",
              "      <th>Education</th>\n",
              "      <th>MaritalStatus</th>\n",
              "      <th>NrOfDependants</th>\n",
              "      <th>EmploymentStatus</th>\n",
              "      <th>EmploymentDurationCurrentEmployer</th>\n",
              "      <th>EmploymentPosition</th>\n",
              "      <th>WorkExperience</th>\n",
              "      <th>OccupationArea</th>\n",
              "      <th>HomeOwnershipType</th>\n",
              "      <th>IncomeFromPrincipalEmployer</th>\n",
              "      <th>IncomeFromPension</th>\n",
              "      <th>IncomeFromFamilyAllowance</th>\n",
              "      <th>IncomeFromSocialWelfare</th>\n",
              "      <th>IncomeFromLeavePay</th>\n",
              "      <th>IncomeFromChildSupport</th>\n",
              "      <th>IncomeOther</th>\n",
              "      <th>IncomeTotal</th>\n",
              "      <th>ExistingLiabilities</th>\n",
              "      <th>LiabilitiesTotal</th>\n",
              "      <th>RefinanceLiabilities</th>\n",
              "      <th>DebtToIncome</th>\n",
              "      <th>FreeCash</th>\n",
              "      <th>MonthlyPaymentDay</th>\n",
              "      <th>ActiveScheduleFirstPaymentReached</th>\n",
              "      <th>PlannedPrincipalTillDate</th>\n",
              "      <th>PlannedInterestTillDate</th>\n",
              "      <th>LastPaymentOn</th>\n",
              "      <th>CurrentDebtDaysPrimary</th>\n",
              "      <th>DebtOccuredOn</th>\n",
              "      <th>CurrentDebtDaysSecondary</th>\n",
              "      <th>DebtOccuredOnForSecondary</th>\n",
              "      <th>ExpectedLoss</th>\n",
              "      <th>LossGivenDefault</th>\n",
              "      <th>ExpectedReturn</th>\n",
              "      <th>ProbabilityOfDefault</th>\n",
              "      <th>DefaultDate</th>\n",
              "      <th>PrincipalOverdueBySchedule</th>\n",
              "      <th>PlannedPrincipalPostDefault</th>\n",
              "      <th>PlannedInterestPostDefault</th>\n",
              "      <th>EAD1</th>\n",
              "      <th>EAD2</th>\n",
              "      <th>PrincipalRecovery</th>\n",
              "      <th>InterestRecovery</th>\n",
              "      <th>RecoveryStage</th>\n",
              "      <th>StageActiveSince</th>\n",
              "      <th>ModelVersion</th>\n",
              "      <th>Rating</th>\n",
              "      <th>EL_V0</th>\n",
              "      <th>Rating_V0</th>\n",
              "      <th>EL_V1</th>\n",
              "      <th>Rating_V1</th>\n",
              "      <th>Rating_V2</th>\n",
              "      <th>Status</th>\n",
              "      <th>Restructured</th>\n",
              "      <th>ActiveLateCategory</th>\n",
              "      <th>WorseLateCategory</th>\n",
              "      <th>CreditScoreEsMicroL</th>\n",
              "      <th>CreditScoreEsEquifaxRisk</th>\n",
              "      <th>CreditScoreFiAsiakasTietoRiskGrade</th>\n",
              "      <th>CreditScoreEeMini</th>\n",
              "      <th>PrincipalPaymentsMade</th>\n",
              "      <th>InterestAndPenaltyPaymentsMade</th>\n",
              "      <th>PrincipalWriteOffs</th>\n",
              "      <th>InterestAndPenaltyWriteOffs</th>\n",
              "      <th>PrincipalBalance</th>\n",
              "      <th>InterestAndPenaltyBalance</th>\n",
              "      <th>NoOfPreviousLoansBeforeLoan</th>\n",
              "      <th>AmountOfPreviousLoansBeforeLoan</th>\n",
              "      <th>PreviousRepaymentsBeforeLoan</th>\n",
              "      <th>PreviousEarlyRepaymentsBefoleLoan</th>\n",
              "      <th>PreviousEarlyRepaymentsCountBeforeLoan</th>\n",
              "      <th>GracePeriodStart</th>\n",
              "      <th>GracePeriodEnd</th>\n",
              "      <th>NextPaymentDate</th>\n",
              "      <th>NextPaymentNr</th>\n",
              "      <th>NrOfScheduledPayments</th>\n",
              "      <th>ReScheduledOn</th>\n",
              "      <th>PrincipalDebtServicingCost</th>\n",
              "      <th>InterestAndPenaltyDebtServicingCost</th>\n",
              "      <th>ActiveLateLastPaymentCategory</th>\n",
              "    </tr>\n",
              "  </thead>\n",
              "  <tbody>\n",
              "    <tr>\n",
              "      <th>0</th>\n",
              "      <td>2020-01-27</td>\n",
              "      <td>F0660C80-83F3-4A97-8DA0-9C250112D6EC</td>\n",
              "      <td>659</td>\n",
              "      <td>2009-06-11 16:40:39</td>\n",
              "      <td>2009-06-11 16:40:39</td>\n",
              "      <td>0</td>\n",
              "      <td>0</td>\n",
              "      <td>115.0410</td>\n",
              "      <td>KARU</td>\n",
              "      <td>True</td>\n",
              "      <td>2009-06-11 16:40:39</td>\n",
              "      <td>2009-06-16</td>\n",
              "      <td>2010-07-06</td>\n",
              "      <td>2009-07-27</td>\n",
              "      <td>2010-06-25</td>\n",
              "      <td>2010-06-25</td>\n",
              "      <td>17</td>\n",
              "      <td>5</td>\n",
              "      <td>2.0</td>\n",
              "      <td>1</td>\n",
              "      <td>61</td>\n",
              "      <td>1947-11-26</td>\n",
              "      <td>1.0</td>\n",
              "      <td>EE</td>\n",
              "      <td>319.5582</td>\n",
              "      <td>115.0408</td>\n",
              "      <td>30.0</td>\n",
              "      <td>12</td>\n",
              "      <td>NaN</td>\n",
              "      <td>HARJU</td>\n",
              "      <td>TALLINN</td>\n",
              "      <td>7</td>\n",
              "      <td>3.0</td>\n",
              "      <td>1.0</td>\n",
              "      <td>0</td>\n",
              "      <td>3.0</td>\n",
              "      <td>UpTo3Years</td>\n",
              "      <td>klienditeenindaja</td>\n",
              "      <td>MoreThan25Years</td>\n",
              "      <td>7.0</td>\n",
              "      <td>NaN</td>\n",
              "      <td>6000.0</td>\n",
              "      <td>0.0</td>\n",
              "      <td>0.0</td>\n",
              "      <td>0.0</td>\n",
              "      <td>0.0</td>\n",
              "      <td>0.0</td>\n",
              "      <td>4500.0</td>\n",
              "      <td>10500.0</td>\n",
              "      <td>0</td>\n",
              "      <td>0.0</td>\n",
              "      <td>0</td>\n",
              "      <td>0.0</td>\n",
              "      <td>0.0</td>\n",
              "      <td>25</td>\n",
              "      <td>True</td>\n",
              "      <td>1800.0000</td>\n",
              "      <td>319.0800</td>\n",
              "      <td>2010-07-06</td>\n",
              "      <td>NaN</td>\n",
              "      <td>NaN</td>\n",
              "      <td>NaN</td>\n",
              "      <td>NaN</td>\n",
              "      <td>NaN</td>\n",
              "      <td>NaN</td>\n",
              "      <td>NaN</td>\n",
              "      <td>NaN</td>\n",
              "      <td>NaN</td>\n",
              "      <td>NaN</td>\n",
              "      <td>NaN</td>\n",
              "      <td>NaN</td>\n",
              "      <td>NaN</td>\n",
              "      <td>NaN</td>\n",
              "      <td>NaN</td>\n",
              "      <td>NaN</td>\n",
              "      <td>NaN</td>\n",
              "      <td>NaN</td>\n",
              "      <td>NaN</td>\n",
              "      <td>NaN</td>\n",
              "      <td>NaN</td>\n",
              "      <td>NaN</td>\n",
              "      <td>NaN</td>\n",
              "      <td>NaN</td>\n",
              "      <td>NaN</td>\n",
              "      <td>Repaid</td>\n",
              "      <td>False</td>\n",
              "      <td>NaN</td>\n",
              "      <td>91-120</td>\n",
              "      <td>NaN</td>\n",
              "      <td>NaN</td>\n",
              "      <td>NaN</td>\n",
              "      <td>NaN</td>\n",
              "      <td>115.0408</td>\n",
              "      <td>20.4222</td>\n",
              "      <td>0.0</td>\n",
              "      <td>0.0</td>\n",
              "      <td>0.00</td>\n",
              "      <td>0.00</td>\n",
              "      <td>1</td>\n",
              "      <td>83.0852</td>\n",
              "      <td>0.0000</td>\n",
              "      <td>0.0</td>\n",
              "      <td>0</td>\n",
              "      <td>NaN</td>\n",
              "      <td>NaN</td>\n",
              "      <td>NaN</td>\n",
              "      <td>NaN</td>\n",
              "      <td>NaN</td>\n",
              "      <td>NaN</td>\n",
              "      <td>0.0</td>\n",
              "      <td>0.0</td>\n",
              "      <td>NaN</td>\n",
              "    </tr>\n",
              "    <tr>\n",
              "      <th>1</th>\n",
              "      <td>2020-01-27</td>\n",
              "      <td>978BB85B-1C69-4D51-8447-9C240104A3A2</td>\n",
              "      <td>654</td>\n",
              "      <td>2009-06-10 15:48:57</td>\n",
              "      <td>2009-06-10 15:48:57</td>\n",
              "      <td>0</td>\n",
              "      <td>0</td>\n",
              "      <td>140.6057</td>\n",
              "      <td>koort681</td>\n",
              "      <td>False</td>\n",
              "      <td>2009-06-10 15:48:57</td>\n",
              "      <td>2009-06-15</td>\n",
              "      <td>2009-07-07</td>\n",
              "      <td>2009-07-15</td>\n",
              "      <td>2009-07-15</td>\n",
              "      <td>2009-07-15</td>\n",
              "      <td>20</td>\n",
              "      <td>4</td>\n",
              "      <td>2.0</td>\n",
              "      <td>1</td>\n",
              "      <td>48</td>\n",
              "      <td>1960-11-05</td>\n",
              "      <td>1.0</td>\n",
              "      <td>EE</td>\n",
              "      <td>191.7349</td>\n",
              "      <td>140.6057</td>\n",
              "      <td>25.0</td>\n",
              "      <td>1</td>\n",
              "      <td>NaN</td>\n",
              "      <td>IDA-VIRU</td>\n",
              "      <td>KOHTLA-JARVE</td>\n",
              "      <td>7</td>\n",
              "      <td>5.0</td>\n",
              "      <td>4.0</td>\n",
              "      <td>0</td>\n",
              "      <td>3.0</td>\n",
              "      <td>MoreThan5Years</td>\n",
              "      <td>Õppealajuhataja lasteaias</td>\n",
              "      <td>MoreThan25Years</td>\n",
              "      <td>16.0</td>\n",
              "      <td>NaN</td>\n",
              "      <td>8300.0</td>\n",
              "      <td>0.0</td>\n",
              "      <td>0.0</td>\n",
              "      <td>0.0</td>\n",
              "      <td>0.0</td>\n",
              "      <td>0.0</td>\n",
              "      <td>2500.0</td>\n",
              "      <td>10800.0</td>\n",
              "      <td>0</td>\n",
              "      <td>0.0</td>\n",
              "      <td>0</td>\n",
              "      <td>0.0</td>\n",
              "      <td>0.0</td>\n",
              "      <td>15</td>\n",
              "      <td>True</td>\n",
              "      <td>2200.0000</td>\n",
              "      <td>45.8300</td>\n",
              "      <td>2009-07-07</td>\n",
              "      <td>NaN</td>\n",
              "      <td>NaN</td>\n",
              "      <td>NaN</td>\n",
              "      <td>NaN</td>\n",
              "      <td>NaN</td>\n",
              "      <td>NaN</td>\n",
              "      <td>NaN</td>\n",
              "      <td>NaN</td>\n",
              "      <td>NaN</td>\n",
              "      <td>NaN</td>\n",
              "      <td>NaN</td>\n",
              "      <td>NaN</td>\n",
              "      <td>NaN</td>\n",
              "      <td>NaN</td>\n",
              "      <td>NaN</td>\n",
              "      <td>NaN</td>\n",
              "      <td>NaN</td>\n",
              "      <td>NaN</td>\n",
              "      <td>NaN</td>\n",
              "      <td>NaN</td>\n",
              "      <td>NaN</td>\n",
              "      <td>NaN</td>\n",
              "      <td>NaN</td>\n",
              "      <td>NaN</td>\n",
              "      <td>NaN</td>\n",
              "      <td>Repaid</td>\n",
              "      <td>False</td>\n",
              "      <td>NaN</td>\n",
              "      <td>NaN</td>\n",
              "      <td>NaN</td>\n",
              "      <td>NaN</td>\n",
              "      <td>NaN</td>\n",
              "      <td>NaN</td>\n",
              "      <td>140.6057</td>\n",
              "      <td>2.0227</td>\n",
              "      <td>0.0</td>\n",
              "      <td>0.0</td>\n",
              "      <td>0.00</td>\n",
              "      <td>0.00</td>\n",
              "      <td>2</td>\n",
              "      <td>255.6467</td>\n",
              "      <td>258.6256</td>\n",
              "      <td>0.0</td>\n",
              "      <td>0</td>\n",
              "      <td>NaN</td>\n",
              "      <td>NaN</td>\n",
              "      <td>NaN</td>\n",
              "      <td>NaN</td>\n",
              "      <td>NaN</td>\n",
              "      <td>NaN</td>\n",
              "      <td>0.0</td>\n",
              "      <td>0.0</td>\n",
              "      <td>NaN</td>\n",
              "    </tr>\n",
              "    <tr>\n",
              "      <th>2</th>\n",
              "      <td>2020-01-27</td>\n",
              "      <td>EA44027E-7FA7-4BB2-846D-9C1F013C8A22</td>\n",
              "      <td>641</td>\n",
              "      <td>2009-06-05 19:12:29</td>\n",
              "      <td>2009-06-05 19:12:29</td>\n",
              "      <td>0</td>\n",
              "      <td>0</td>\n",
              "      <td>319.5580</td>\n",
              "      <td>0ie</td>\n",
              "      <td>True</td>\n",
              "      <td>2009-06-05 19:12:29</td>\n",
              "      <td>2009-06-15</td>\n",
              "      <td>NaN</td>\n",
              "      <td>2009-07-27</td>\n",
              "      <td>2011-02-25</td>\n",
              "      <td>2014-05-13</td>\n",
              "      <td>20</td>\n",
              "      <td>6</td>\n",
              "      <td>2.0</td>\n",
              "      <td>1</td>\n",
              "      <td>58</td>\n",
              "      <td>1950-11-13</td>\n",
              "      <td>1.0</td>\n",
              "      <td>EE</td>\n",
              "      <td>319.5582</td>\n",
              "      <td>319.5409</td>\n",
              "      <td>25.0</td>\n",
              "      <td>20</td>\n",
              "      <td>NaN</td>\n",
              "      <td>PÄRNU</td>\n",
              "      <td>PÄRNU</td>\n",
              "      <td>2</td>\n",
              "      <td>4.0</td>\n",
              "      <td>1.0</td>\n",
              "      <td>0</td>\n",
              "      <td>3.0</td>\n",
              "      <td>UpTo4Years</td>\n",
              "      <td>teenindaja</td>\n",
              "      <td>MoreThan25Years</td>\n",
              "      <td>9.0</td>\n",
              "      <td>NaN</td>\n",
              "      <td>5000.0</td>\n",
              "      <td>0.0</td>\n",
              "      <td>0.0</td>\n",
              "      <td>0.0</td>\n",
              "      <td>0.0</td>\n",
              "      <td>0.0</td>\n",
              "      <td>2000.0</td>\n",
              "      <td>7000.0</td>\n",
              "      <td>0</td>\n",
              "      <td>0.0</td>\n",
              "      <td>0</td>\n",
              "      <td>0.0</td>\n",
              "      <td>0.0</td>\n",
              "      <td>25</td>\n",
              "      <td>True</td>\n",
              "      <td>319.5409</td>\n",
              "      <td>197.2926</td>\n",
              "      <td>2012-10-01</td>\n",
              "      <td>2813.0</td>\n",
              "      <td>2012-05-14</td>\n",
              "      <td>2935.0</td>\n",
              "      <td>2012-01-13</td>\n",
              "      <td>NaN</td>\n",
              "      <td>NaN</td>\n",
              "      <td>NaN</td>\n",
              "      <td>NaN</td>\n",
              "      <td>2012-07-16</td>\n",
              "      <td>116.35</td>\n",
              "      <td>236.97</td>\n",
              "      <td>38.24</td>\n",
              "      <td>279.5049</td>\n",
              "      <td>270.7323</td>\n",
              "      <td>163.1549</td>\n",
              "      <td>50.99</td>\n",
              "      <td>NaN</td>\n",
              "      <td>2016-03-03 00:00:00</td>\n",
              "      <td>NaN</td>\n",
              "      <td>NaN</td>\n",
              "      <td>NaN</td>\n",
              "      <td>NaN</td>\n",
              "      <td>NaN</td>\n",
              "      <td>NaN</td>\n",
              "      <td>NaN</td>\n",
              "      <td>Late</td>\n",
              "      <td>True</td>\n",
              "      <td>180+</td>\n",
              "      <td>180+</td>\n",
              "      <td>NaN</td>\n",
              "      <td>NaN</td>\n",
              "      <td>NaN</td>\n",
              "      <td>NaN</td>\n",
              "      <td>203.1909</td>\n",
              "      <td>59.7626</td>\n",
              "      <td>0.0</td>\n",
              "      <td>0.0</td>\n",
              "      <td>116.35</td>\n",
              "      <td>414.07</td>\n",
              "      <td>0</td>\n",
              "      <td>0.0000</td>\n",
              "      <td>0.0000</td>\n",
              "      <td>0.0</td>\n",
              "      <td>0</td>\n",
              "      <td>NaN</td>\n",
              "      <td>NaN</td>\n",
              "      <td>NaN</td>\n",
              "      <td>NaN</td>\n",
              "      <td>NaN</td>\n",
              "      <td>NaN</td>\n",
              "      <td>0.0</td>\n",
              "      <td>0.0</td>\n",
              "      <td>180+</td>\n",
              "    </tr>\n",
              "    <tr>\n",
              "      <th>3</th>\n",
              "      <td>2020-01-27</td>\n",
              "      <td>CE67AD25-2951-4BEE-96BD-9C2700C61EF4</td>\n",
              "      <td>668</td>\n",
              "      <td>2009-06-13 12:01:20</td>\n",
              "      <td>2009-06-13 12:01:20</td>\n",
              "      <td>0</td>\n",
              "      <td>0</td>\n",
              "      <td>57.5205</td>\n",
              "      <td>Alyona</td>\n",
              "      <td>True</td>\n",
              "      <td>2009-06-13 12:01:20</td>\n",
              "      <td>2009-06-15</td>\n",
              "      <td>2010-09-15</td>\n",
              "      <td>2009-07-15</td>\n",
              "      <td>2010-09-15</td>\n",
              "      <td>2010-09-15</td>\n",
              "      <td>12</td>\n",
              "      <td>7</td>\n",
              "      <td>2.0</td>\n",
              "      <td>1</td>\n",
              "      <td>23</td>\n",
              "      <td>1986-03-29</td>\n",
              "      <td>1.0</td>\n",
              "      <td>EE</td>\n",
              "      <td>127.8233</td>\n",
              "      <td>57.5205</td>\n",
              "      <td>45.0</td>\n",
              "      <td>15</td>\n",
              "      <td>NaN</td>\n",
              "      <td>HARJU</td>\n",
              "      <td>PALDISKI</td>\n",
              "      <td>0</td>\n",
              "      <td>2.0</td>\n",
              "      <td>3.0</td>\n",
              "      <td>1</td>\n",
              "      <td>NaN</td>\n",
              "      <td>UpTo2Years</td>\n",
              "      <td>juhtmekoitja</td>\n",
              "      <td>2To5Years</td>\n",
              "      <td>1.0</td>\n",
              "      <td>NaN</td>\n",
              "      <td>11000.0</td>\n",
              "      <td>0.0</td>\n",
              "      <td>0.0</td>\n",
              "      <td>0.0</td>\n",
              "      <td>0.0</td>\n",
              "      <td>0.0</td>\n",
              "      <td>600.0</td>\n",
              "      <td>11600.0</td>\n",
              "      <td>0</td>\n",
              "      <td>0.0</td>\n",
              "      <td>0</td>\n",
              "      <td>0.0</td>\n",
              "      <td>0.0</td>\n",
              "      <td>15</td>\n",
              "      <td>True</td>\n",
              "      <td>900.0000</td>\n",
              "      <td>293.1000</td>\n",
              "      <td>2010-09-15</td>\n",
              "      <td>NaN</td>\n",
              "      <td>NaN</td>\n",
              "      <td>NaN</td>\n",
              "      <td>NaN</td>\n",
              "      <td>NaN</td>\n",
              "      <td>NaN</td>\n",
              "      <td>NaN</td>\n",
              "      <td>NaN</td>\n",
              "      <td>NaN</td>\n",
              "      <td>NaN</td>\n",
              "      <td>NaN</td>\n",
              "      <td>NaN</td>\n",
              "      <td>NaN</td>\n",
              "      <td>NaN</td>\n",
              "      <td>NaN</td>\n",
              "      <td>NaN</td>\n",
              "      <td>NaN</td>\n",
              "      <td>NaN</td>\n",
              "      <td>NaN</td>\n",
              "      <td>NaN</td>\n",
              "      <td>NaN</td>\n",
              "      <td>NaN</td>\n",
              "      <td>NaN</td>\n",
              "      <td>NaN</td>\n",
              "      <td>NaN</td>\n",
              "      <td>Repaid</td>\n",
              "      <td>False</td>\n",
              "      <td>NaN</td>\n",
              "      <td>31-60</td>\n",
              "      <td>NaN</td>\n",
              "      <td>NaN</td>\n",
              "      <td>NaN</td>\n",
              "      <td>NaN</td>\n",
              "      <td>57.5205</td>\n",
              "      <td>18.7323</td>\n",
              "      <td>0.0</td>\n",
              "      <td>0.0</td>\n",
              "      <td>0.00</td>\n",
              "      <td>0.00</td>\n",
              "      <td>1</td>\n",
              "      <td>134.2144</td>\n",
              "      <td>0.0000</td>\n",
              "      <td>0.0</td>\n",
              "      <td>0</td>\n",
              "      <td>NaN</td>\n",
              "      <td>NaN</td>\n",
              "      <td>NaN</td>\n",
              "      <td>NaN</td>\n",
              "      <td>NaN</td>\n",
              "      <td>NaN</td>\n",
              "      <td>0.0</td>\n",
              "      <td>0.0</td>\n",
              "      <td>NaN</td>\n",
              "    </tr>\n",
              "    <tr>\n",
              "      <th>4</th>\n",
              "      <td>2020-01-27</td>\n",
              "      <td>9408BF8C-B159-4D6A-9D61-9C2400A986E3</td>\n",
              "      <td>652</td>\n",
              "      <td>2009-06-10 10:17:13</td>\n",
              "      <td>2009-06-10 10:17:13</td>\n",
              "      <td>0</td>\n",
              "      <td>0</td>\n",
              "      <td>319.5582</td>\n",
              "      <td>Kai</td>\n",
              "      <td>True</td>\n",
              "      <td>2009-06-10 10:17:13</td>\n",
              "      <td>2009-06-14</td>\n",
              "      <td>2016-07-28</td>\n",
              "      <td>2009-07-27</td>\n",
              "      <td>2010-06-25</td>\n",
              "      <td>2010-06-25</td>\n",
              "      <td>10</td>\n",
              "      <td>4</td>\n",
              "      <td>2.0</td>\n",
              "      <td>1</td>\n",
              "      <td>25</td>\n",
              "      <td>1983-09-30</td>\n",
              "      <td>1.0</td>\n",
              "      <td>EE</td>\n",
              "      <td>319.5582</td>\n",
              "      <td>319.5436</td>\n",
              "      <td>30.0</td>\n",
              "      <td>12</td>\n",
              "      <td>NaN</td>\n",
              "      <td>TARTU</td>\n",
              "      <td>TARTU</td>\n",
              "      <td>6</td>\n",
              "      <td>4.0</td>\n",
              "      <td>2.0</td>\n",
              "      <td>0</td>\n",
              "      <td>3.0</td>\n",
              "      <td>UpTo2Years</td>\n",
              "      <td>klienditeenindaja</td>\n",
              "      <td>5To10Years</td>\n",
              "      <td>7.0</td>\n",
              "      <td>NaN</td>\n",
              "      <td>6800.0</td>\n",
              "      <td>0.0</td>\n",
              "      <td>0.0</td>\n",
              "      <td>0.0</td>\n",
              "      <td>0.0</td>\n",
              "      <td>0.0</td>\n",
              "      <td>0.0</td>\n",
              "      <td>6800.0</td>\n",
              "      <td>0</td>\n",
              "      <td>0.0</td>\n",
              "      <td>0</td>\n",
              "      <td>0.0</td>\n",
              "      <td>0.0</td>\n",
              "      <td>25</td>\n",
              "      <td>True</td>\n",
              "      <td>5000.0000</td>\n",
              "      <td>833.8100</td>\n",
              "      <td>2015-07-16</td>\n",
              "      <td>NaN</td>\n",
              "      <td>NaN</td>\n",
              "      <td>3835.0</td>\n",
              "      <td>2009-07-27</td>\n",
              "      <td>NaN</td>\n",
              "      <td>NaN</td>\n",
              "      <td>NaN</td>\n",
              "      <td>NaN</td>\n",
              "      <td>2009-09-28</td>\n",
              "      <td>NaN</td>\n",
              "      <td>247.76</td>\n",
              "      <td>29.84</td>\n",
              "      <td>319.5436</td>\n",
              "      <td>319.5436</td>\n",
              "      <td>319.5436</td>\n",
              "      <td>220.42</td>\n",
              "      <td>NaN</td>\n",
              "      <td>NaN</td>\n",
              "      <td>NaN</td>\n",
              "      <td>NaN</td>\n",
              "      <td>NaN</td>\n",
              "      <td>NaN</td>\n",
              "      <td>NaN</td>\n",
              "      <td>NaN</td>\n",
              "      <td>NaN</td>\n",
              "      <td>Repaid</td>\n",
              "      <td>False</td>\n",
              "      <td>NaN</td>\n",
              "      <td>180+</td>\n",
              "      <td>NaN</td>\n",
              "      <td>NaN</td>\n",
              "      <td>NaN</td>\n",
              "      <td>NaN</td>\n",
              "      <td>319.5436</td>\n",
              "      <td>220.4200</td>\n",
              "      <td>0.0</td>\n",
              "      <td>2.4</td>\n",
              "      <td>0.00</td>\n",
              "      <td>0.00</td>\n",
              "      <td>1</td>\n",
              "      <td>146.9966</td>\n",
              "      <td>0.0000</td>\n",
              "      <td>0.0</td>\n",
              "      <td>0</td>\n",
              "      <td>NaN</td>\n",
              "      <td>NaN</td>\n",
              "      <td>NaN</td>\n",
              "      <td>NaN</td>\n",
              "      <td>NaN</td>\n",
              "      <td>NaN</td>\n",
              "      <td>0.0</td>\n",
              "      <td>0.0</td>\n",
              "      <td>180+</td>\n",
              "    </tr>\n",
              "  </tbody>\n",
              "</table>\n",
              "</div>"
            ],
            "text/plain": [
              "  ReportAsOfEOD                                LoanId  LoanNumber  \\\n",
              "0    2020-01-27  F0660C80-83F3-4A97-8DA0-9C250112D6EC         659   \n",
              "1    2020-01-27  978BB85B-1C69-4D51-8447-9C240104A3A2         654   \n",
              "2    2020-01-27  EA44027E-7FA7-4BB2-846D-9C1F013C8A22         641   \n",
              "3    2020-01-27  CE67AD25-2951-4BEE-96BD-9C2700C61EF4         668   \n",
              "4    2020-01-27  9408BF8C-B159-4D6A-9D61-9C2400A986E3         652   \n",
              "\n",
              "           ListedOnUTC     BiddingStartedOn  BidsPortfolioManager  BidsApi  \\\n",
              "0  2009-06-11 16:40:39  2009-06-11 16:40:39                     0        0   \n",
              "1  2009-06-10 15:48:57  2009-06-10 15:48:57                     0        0   \n",
              "2  2009-06-05 19:12:29  2009-06-05 19:12:29                     0        0   \n",
              "3  2009-06-13 12:01:20  2009-06-13 12:01:20                     0        0   \n",
              "4  2009-06-10 10:17:13  2009-06-10 10:17:13                     0        0   \n",
              "\n",
              "   BidsManual  UserName  NewCreditCustomer LoanApplicationStartedDate  \\\n",
              "0    115.0410      KARU               True        2009-06-11 16:40:39   \n",
              "1    140.6057  koort681              False        2009-06-10 15:48:57   \n",
              "2    319.5580       0ie               True        2009-06-05 19:12:29   \n",
              "3     57.5205    Alyona               True        2009-06-13 12:01:20   \n",
              "4    319.5582       Kai               True        2009-06-10 10:17:13   \n",
              "\n",
              "     LoanDate ContractEndDate FirstPaymentDate MaturityDate_Original  \\\n",
              "0  2009-06-16      2010-07-06       2009-07-27            2010-06-25   \n",
              "1  2009-06-15      2009-07-07       2009-07-15            2009-07-15   \n",
              "2  2009-06-15             NaN       2009-07-27            2011-02-25   \n",
              "3  2009-06-15      2010-09-15       2009-07-15            2010-09-15   \n",
              "4  2009-06-14      2016-07-28       2009-07-27            2010-06-25   \n",
              "\n",
              "  MaturityDate_Last  ApplicationSignedHour  ApplicationSignedWeekday  \\\n",
              "0        2010-06-25                     17                         5   \n",
              "1        2009-07-15                     20                         4   \n",
              "2        2014-05-13                     20                         6   \n",
              "3        2010-09-15                     12                         7   \n",
              "4        2010-06-25                     10                         4   \n",
              "\n",
              "   VerificationType  LanguageCode  Age DateOfBirth  Gender Country  \\\n",
              "0               2.0             1   61  1947-11-26     1.0      EE   \n",
              "1               2.0             1   48  1960-11-05     1.0      EE   \n",
              "2               2.0             1   58  1950-11-13     1.0      EE   \n",
              "3               2.0             1   23  1986-03-29     1.0      EE   \n",
              "4               2.0             1   25  1983-09-30     1.0      EE   \n",
              "\n",
              "   AppliedAmount    Amount  Interest  LoanDuration  MonthlyPayment    County  \\\n",
              "0       319.5582  115.0408      30.0            12             NaN     HARJU   \n",
              "1       191.7349  140.6057      25.0             1             NaN  IDA-VIRU   \n",
              "2       319.5582  319.5409      25.0            20             NaN     PÄRNU   \n",
              "3       127.8233   57.5205      45.0            15             NaN     HARJU   \n",
              "4       319.5582  319.5436      30.0            12             NaN     TARTU   \n",
              "\n",
              "           City  UseOfLoan  Education  MaritalStatus NrOfDependants  \\\n",
              "0       TALLINN          7        3.0            1.0              0   \n",
              "1  KOHTLA-JARVE          7        5.0            4.0              0   \n",
              "2         PÄRNU          2        4.0            1.0              0   \n",
              "3      PALDISKI          0        2.0            3.0              1   \n",
              "4         TARTU          6        4.0            2.0              0   \n",
              "\n",
              "   EmploymentStatus EmploymentDurationCurrentEmployer  \\\n",
              "0               3.0                        UpTo3Years   \n",
              "1               3.0                    MoreThan5Years   \n",
              "2               3.0                        UpTo4Years   \n",
              "3               NaN                        UpTo2Years   \n",
              "4               3.0                        UpTo2Years   \n",
              "\n",
              "          EmploymentPosition   WorkExperience  OccupationArea  \\\n",
              "0          klienditeenindaja  MoreThan25Years             7.0   \n",
              "1  Õppealajuhataja lasteaias  MoreThan25Years            16.0   \n",
              "2                 teenindaja  MoreThan25Years             9.0   \n",
              "3               juhtmekoitja        2To5Years             1.0   \n",
              "4          klienditeenindaja       5To10Years             7.0   \n",
              "\n",
              "   HomeOwnershipType  IncomeFromPrincipalEmployer  IncomeFromPension  \\\n",
              "0                NaN                       6000.0                0.0   \n",
              "1                NaN                       8300.0                0.0   \n",
              "2                NaN                       5000.0                0.0   \n",
              "3                NaN                      11000.0                0.0   \n",
              "4                NaN                       6800.0                0.0   \n",
              "\n",
              "   IncomeFromFamilyAllowance  IncomeFromSocialWelfare  IncomeFromLeavePay  \\\n",
              "0                        0.0                      0.0                 0.0   \n",
              "1                        0.0                      0.0                 0.0   \n",
              "2                        0.0                      0.0                 0.0   \n",
              "3                        0.0                      0.0                 0.0   \n",
              "4                        0.0                      0.0                 0.0   \n",
              "\n",
              "   IncomeFromChildSupport  IncomeOther  IncomeTotal  ExistingLiabilities  \\\n",
              "0                     0.0       4500.0      10500.0                    0   \n",
              "1                     0.0       2500.0      10800.0                    0   \n",
              "2                     0.0       2000.0       7000.0                    0   \n",
              "3                     0.0        600.0      11600.0                    0   \n",
              "4                     0.0          0.0       6800.0                    0   \n",
              "\n",
              "   LiabilitiesTotal  RefinanceLiabilities  DebtToIncome  FreeCash  \\\n",
              "0               0.0                     0           0.0       0.0   \n",
              "1               0.0                     0           0.0       0.0   \n",
              "2               0.0                     0           0.0       0.0   \n",
              "3               0.0                     0           0.0       0.0   \n",
              "4               0.0                     0           0.0       0.0   \n",
              "\n",
              "   MonthlyPaymentDay  ActiveScheduleFirstPaymentReached  \\\n",
              "0                 25                               True   \n",
              "1                 15                               True   \n",
              "2                 25                               True   \n",
              "3                 15                               True   \n",
              "4                 25                               True   \n",
              "\n",
              "   PlannedPrincipalTillDate  PlannedInterestTillDate LastPaymentOn  \\\n",
              "0                 1800.0000                 319.0800    2010-07-06   \n",
              "1                 2200.0000                  45.8300    2009-07-07   \n",
              "2                  319.5409                 197.2926    2012-10-01   \n",
              "3                  900.0000                 293.1000    2010-09-15   \n",
              "4                 5000.0000                 833.8100    2015-07-16   \n",
              "\n",
              "   CurrentDebtDaysPrimary DebtOccuredOn  CurrentDebtDaysSecondary  \\\n",
              "0                     NaN           NaN                       NaN   \n",
              "1                     NaN           NaN                       NaN   \n",
              "2                  2813.0    2012-05-14                    2935.0   \n",
              "3                     NaN           NaN                       NaN   \n",
              "4                     NaN           NaN                    3835.0   \n",
              "\n",
              "  DebtOccuredOnForSecondary  ExpectedLoss  LossGivenDefault  ExpectedReturn  \\\n",
              "0                       NaN           NaN               NaN             NaN   \n",
              "1                       NaN           NaN               NaN             NaN   \n",
              "2                2012-01-13           NaN               NaN             NaN   \n",
              "3                       NaN           NaN               NaN             NaN   \n",
              "4                2009-07-27           NaN               NaN             NaN   \n",
              "\n",
              "   ProbabilityOfDefault DefaultDate  PrincipalOverdueBySchedule  \\\n",
              "0                   NaN         NaN                         NaN   \n",
              "1                   NaN         NaN                         NaN   \n",
              "2                   NaN  2012-07-16                      116.35   \n",
              "3                   NaN         NaN                         NaN   \n",
              "4                   NaN  2009-09-28                         NaN   \n",
              "\n",
              "   PlannedPrincipalPostDefault  PlannedInterestPostDefault      EAD1  \\\n",
              "0                          NaN                         NaN       NaN   \n",
              "1                          NaN                         NaN       NaN   \n",
              "2                       236.97                       38.24  279.5049   \n",
              "3                          NaN                         NaN       NaN   \n",
              "4                       247.76                       29.84  319.5436   \n",
              "\n",
              "       EAD2  PrincipalRecovery  InterestRecovery  RecoveryStage  \\\n",
              "0       NaN                NaN               NaN            NaN   \n",
              "1       NaN                NaN               NaN            NaN   \n",
              "2  270.7323           163.1549             50.99            NaN   \n",
              "3       NaN                NaN               NaN            NaN   \n",
              "4  319.5436           319.5436            220.42            NaN   \n",
              "\n",
              "      StageActiveSince  ModelVersion Rating  EL_V0 Rating_V0  EL_V1 Rating_V1  \\\n",
              "0                  NaN           NaN    NaN    NaN       NaN    NaN       NaN   \n",
              "1                  NaN           NaN    NaN    NaN       NaN    NaN       NaN   \n",
              "2  2016-03-03 00:00:00           NaN    NaN    NaN       NaN    NaN       NaN   \n",
              "3                  NaN           NaN    NaN    NaN       NaN    NaN       NaN   \n",
              "4                  NaN           NaN    NaN    NaN       NaN    NaN       NaN   \n",
              "\n",
              "  Rating_V2  Status  Restructured ActiveLateCategory WorseLateCategory  \\\n",
              "0       NaN  Repaid         False                NaN            91-120   \n",
              "1       NaN  Repaid         False                NaN               NaN   \n",
              "2       NaN    Late          True               180+              180+   \n",
              "3       NaN  Repaid         False                NaN             31-60   \n",
              "4       NaN  Repaid         False                NaN              180+   \n",
              "\n",
              "  CreditScoreEsMicroL CreditScoreEsEquifaxRisk  \\\n",
              "0                 NaN                      NaN   \n",
              "1                 NaN                      NaN   \n",
              "2                 NaN                      NaN   \n",
              "3                 NaN                      NaN   \n",
              "4                 NaN                      NaN   \n",
              "\n",
              "  CreditScoreFiAsiakasTietoRiskGrade  CreditScoreEeMini  \\\n",
              "0                                NaN                NaN   \n",
              "1                                NaN                NaN   \n",
              "2                                NaN                NaN   \n",
              "3                                NaN                NaN   \n",
              "4                                NaN                NaN   \n",
              "\n",
              "   PrincipalPaymentsMade  InterestAndPenaltyPaymentsMade  PrincipalWriteOffs  \\\n",
              "0               115.0408                         20.4222                 0.0   \n",
              "1               140.6057                          2.0227                 0.0   \n",
              "2               203.1909                         59.7626                 0.0   \n",
              "3                57.5205                         18.7323                 0.0   \n",
              "4               319.5436                        220.4200                 0.0   \n",
              "\n",
              "   InterestAndPenaltyWriteOffs  PrincipalBalance  InterestAndPenaltyBalance  \\\n",
              "0                          0.0              0.00                       0.00   \n",
              "1                          0.0              0.00                       0.00   \n",
              "2                          0.0            116.35                     414.07   \n",
              "3                          0.0              0.00                       0.00   \n",
              "4                          2.4              0.00                       0.00   \n",
              "\n",
              "   NoOfPreviousLoansBeforeLoan  AmountOfPreviousLoansBeforeLoan  \\\n",
              "0                            1                          83.0852   \n",
              "1                            2                         255.6467   \n",
              "2                            0                           0.0000   \n",
              "3                            1                         134.2144   \n",
              "4                            1                         146.9966   \n",
              "\n",
              "   PreviousRepaymentsBeforeLoan  PreviousEarlyRepaymentsBefoleLoan  \\\n",
              "0                        0.0000                                0.0   \n",
              "1                      258.6256                                0.0   \n",
              "2                        0.0000                                0.0   \n",
              "3                        0.0000                                0.0   \n",
              "4                        0.0000                                0.0   \n",
              "\n",
              "   PreviousEarlyRepaymentsCountBeforeLoan GracePeriodStart GracePeriodEnd  \\\n",
              "0                                       0              NaN            NaN   \n",
              "1                                       0              NaN            NaN   \n",
              "2                                       0              NaN            NaN   \n",
              "3                                       0              NaN            NaN   \n",
              "4                                       0              NaN            NaN   \n",
              "\n",
              "  NextPaymentDate  NextPaymentNr  NrOfScheduledPayments ReScheduledOn  \\\n",
              "0             NaN            NaN                    NaN           NaN   \n",
              "1             NaN            NaN                    NaN           NaN   \n",
              "2             NaN            NaN                    NaN           NaN   \n",
              "3             NaN            NaN                    NaN           NaN   \n",
              "4             NaN            NaN                    NaN           NaN   \n",
              "\n",
              "   PrincipalDebtServicingCost  InterestAndPenaltyDebtServicingCost  \\\n",
              "0                         0.0                                  0.0   \n",
              "1                         0.0                                  0.0   \n",
              "2                         0.0                                  0.0   \n",
              "3                         0.0                                  0.0   \n",
              "4                         0.0                                  0.0   \n",
              "\n",
              "  ActiveLateLastPaymentCategory  \n",
              "0                           NaN  \n",
              "1                           NaN  \n",
              "2                          180+  \n",
              "3                           NaN  \n",
              "4                          180+  "
            ]
          },
          "execution_count": 5,
          "metadata": {},
          "output_type": "execute_result"
        }
      ],
      "source": [
        "df.head()"
      ]
    },
    {
      "cell_type": "markdown",
      "metadata": {
        "id": "doW_Cby2cOfE"
      },
      "source": [
        "## Data Understanding"
      ]
    },
    {
      "cell_type": "markdown",
      "metadata": {
        "id": "D5jbDsKNcOfH"
      },
      "source": [
        "| Feature                                | Description                                                                                                                                                                                                                                                                                                                                                                                                                                                                                                         |\n",
        "|----------------------------------------|---------------------------------------------------------------------------------------------------------------------------------------------------------------------------------------------------------------------------------------------------------------------------------------------------------------------------------------------------------------------------------------------------------------------------------------------------------------------------------------------------------------------|\n",
        "| ActiveLateCategory                     | When a loan is in Principal Debt then it will be categorized by Principal Debt days                                                                                                                                                                                                                                                                                                                                                                                                                                 |\n",
        "| ActiveLateLastPaymentCategory          | Shows how many days has passed since last payment and categorised if it is overdue                                                                                                                                                                                                                                                                                                                                                                                                                                  |\n",
        "| ActiveScheduleFirstPaymentReached      | Whether the first payment date has been reached according to the active schedule                                                                                                                                                                                                                                                                                                                                                                                                                                    |\n",
        "| Age                                    | The age of the borrower when signing the loan application                                                                                                                                                                                                                                                                                                                                                                                                                                                           |\n",
        "| Amount                                 | Amount the borrower received on the Primary Market. This is the principal balance of your purchase from Secondary Market                                                                                                                                                                                                                                                                                                                                                                                            |\n",
        "| AmountOfPreviousLoansBeforeLoan        | Value of previous loans                                                                                                                                                                                                                                                                                                                                                                                                                                                                                             |\n",
        "| AppliedAmount                          | The amount borrower applied for originally                                                                                                                                                                                                                                                                                                                                                                                                                                                                          |\n",
        "| AuctionBidNumber                       | Unique bid number which is accompanied by Auction number                                                                                                                                                                                                                                                                                                                                                                                                                                                            |\n",
        "| AuctionId                              | A unique number given to all auctions                                                                                                                                                                                                                                                                                                                                                                                                                                                                               |\n",
        "| AuctionName                            | Name of the Auction, in newer loans it is defined by the purpose of the loan                                                                                                                                                                                                                                                                                                                                                                                                                                        |\n",
        "| AuctionNumber                          | Unique auction number which is accompanied by Bid number                                                                                                                                                                                                                                                                                                                                                                                                                                                            |\n",
        "| BidPrincipal                           | On Primary Market BidPrincipal is the amount you made your bid on. On Secondary Market BidPrincipal is the purchase price                                                                                                                                                                                                                                                                                                                                                                                           |\n",
        "| BidsApi                                | The amount of investment offers made via Api                                                                                                                                                                                                                                                                                                                                                                                                                                                                        |\n",
        "| BidsManual                             | The amount of investment offers made manually                                                                                                                                                                                                                                                                                                                                                                                                                                                                       |\n",
        "| BidsPortfolioManager                   | The amount of investment offers made by Portfolio Managers                                                                                                                                                                                                                                                                                                                                                                                                                                                          |\n",
        "| BoughtFromResale_Date                  | The time when the investment was purchased from the Secondary Market                                                                                                                                                                                                                                                                                                                                                                                                                                                |\n",
        "| City                                   | City of the borrower                                                                                                                                                                                                                                                                                                                                                                                                                                                                                                |\n",
        "| ContractEndDate                        | The date when the loan contract ended                                                                                                                                                                                                                                                                                                                                                                                                                                                                               |\n",
        "| Country                                | Residency of the borrower                                                                                                                                                                                                                                                                                                                                                                                                                                                                                           |\n",
        "| County                                 | County of the borrower                                                                                                                                                                                                                                                                                                                                                                                                                                                                                              |\n",
        "| CreditScoreEeMini                      | 1000 No previous payments problems 900 Payments problems finished 24-36 months ago 800 Payments problems finished 12-24 months ago 700 Payments problems finished 6-12 months ago 600 Payment problems finished < 6 months ago 500 Active payment problems                                                                                                                                                                                                                                                          |\n",
        "| CreditScoreEsEquifaxRisk               | Generic score for the loan applicants that do not have active past due operations in ASNEF; a measure of the probability of default one year ahead; the score is given on a 6-grade scale: AAA (“Very low”), AA (“Low”), A (“Average”), B (“Average High”), C (“High”), D (“Very High”).                                                                                                                                                                                                                            |\n",
        "| CreditScoreEsMicroL                    | A score that is specifically designed for risk classifying subprime borrowers (defined by Equifax as borrowers that do not have access to bank loans); a measure of the probability of default one month ahead; the score is given on a 10-grade scale, from the best score to the worst: M1, M2, M3, M4, M5, M6, M7, M8, M9, M10.                                                                                                                                                                                  |\n",
        "| CreditScoreFiAsiakasTietoRiskGrade     | Credit Scoring model for Finnish Asiakastieto RL1 Very low risk 01-20 RL2 Low risk 21-40 RL3 Average risk 41-60 RL4 Big risk 61-80 RL5 Huge risk 81-100                                                                                                                                                                                                                                                                                                                                                             |\n",
        "| CurrentDebtDaysPrimary                 | How long the loan has been in Principal Debt                                                                                                                                                                                                                                                                                                                                                                                                                                                                        |\n",
        "| CurrentDebtDaysSecondary               | How long the loan has been in Interest Debt                                                                                                                                                                                                                                                                                                                                                                                                                                                                         |\n",
        "| DateOfBirth                            | The date of the borrower's birth                                                                                                                                                                                                                                                                                                                                                                                                                                                                                    |\n",
        "| DebtOccuredOn                          | The date when Principal Debt occurred                                                                                                                                                                                                                                                                                                                                                                                                                                                                               |\n",
        "| DebtOccuredOnForSecondary              | The date when Interest Debt occurred                                                                                                                                                                                                                                                                                                                                                                                                                                                                                |\n",
        "| DebtToIncome                           | Ratio of borrower's monthly gross income that goes toward paying loans                                                                                                                                                                                                                                                                                                                                                                                                                                              |\n",
        "| DefaultDate                            | The date when loan went into defaulted state and collection process was started                                                                                                                                                                                                                                                                                                                                                                                                                                     |\n",
        "| DesiredDiscountRate                    | Investment being sold at a discount or premium                                                                                                                                                                                                                                                                                                                                                                                                                                                                      |\n",
        "| EAD1                                   | Exposure at default, outstanding principal at default                                                                                                                                                                                                                                                                                                                                                                                                                                                               |\n",
        "| EAD2                                   | Exposure at default, loan amount less all payments prior to default                                                                                                                                                                                                                                                                                                                                                                                                                                                 |\n",
        "| Education                              | 1 Primary education 2 Basic education 3 Vocational education 4 Secondary education 5 Higher education                                                                                                                                                                                                                                                                                                                                                                                                               |\n",
        "| EL_V0                                  | Expected loss calculated by the specified version of Rating model                                                                                                                                                                                                                                                                                                                                                                                                                                                   |\n",
        "| EL_V1                                  | Expected loss calculated by the specified version of Rating model                                                                                                                                                                                                                                                                                                                                                                                                                                                   |\n",
        "| EL_V2                                  | Expected loss calculated by the specified version of Rating model                                                                                                                                                                                                                                                                                                                                                                                                                                                   |\n",
        "| EmploymentDurationCurrentEmployer      | Employment time with the current employer                                                                                                                                                                                                                                                                                                                                                                                                                                                                           |\n",
        "| EmploymentPosition                     | Employment position with the current employer                                                                                                                                                                                                                                                                                                                                                                                                                                                                       |\n",
        "| EmploymentStatus                       | 1 Unemployed 2 Partially employed 3 Fully employed 4 Self-employed 5 Entrepreneur 6 Retiree                                                                                                                                                                                                                                                                                                                                                                                                                         |\n",
        "| ExistingLiabilities                    | Borrower's number of existing liabilities                                                                                                                                                                                                                                                                                                                                                                                                                                                                           |\n",
        "| ExpectedLoss                           | Expected Loss calculated by the current Rating model                                                                                                                                                                                                                                                                                                                                                                                                                                                                |\n",
        "| ExpectedReturn                         | Expected Return calculated by the current Rating model                                                                                                                                                                                                                                                                                                                                                                                                                                                              |\n",
        "| FirstPaymentDate                       | First payment date according to initial loan schedule                                                                                                                                                                                                                                                                                                                                                                                                                                                               |\n",
        "| FreeCash                               | Discretionary income after monthly liabilities                                                                                                                                                                                                                                                                                                                                                                                                                                                                      |\n",
        "| Gender                                 | 0 Male 1 Woman 2 Undefined                                                                                                                                                                                                                                                                                                                                                                                                                                                                                          |\n",
        "| GracePeriodEnd                         | Date of the end of Grace period                                                                                                                                                                                                                                                                                                                                                                                                                                                                                     |\n",
        "| GracePeriodStart                       | Date of the beginning of Grace period                                                                                                                                                                                                                                                                                                                                                                                                                                                                               |\n",
        "| HomeOwnershipType                      | 0 Homeless 1 Owner 2 Living with parents 3 Tenant, pre-furnished property 4 Tenant, unfurnished property 5 Council house 6 Joint tenant 7 Joint ownership 8 Mortgage 9 Owner with encumbrance 10 Other                                                                                                                                                                                                                                                                                                              |\n",
        "| IncomeFromChildSupport                 | Borrower's income from alimony payments                                                                                                                                                                                                                                                                                                                                                                                                                                                                             |\n",
        "| IncomeFromFamilyAllowance              | Borrower's income from child support                                                                                                                                                                                                                                                                                                                                                                                                                                                                                |\n",
        "| IncomeFromLeavePay                     | Borrower's income from paternity leave                                                                                                                                                                                                                                                                                                                                                                                                                                                                              |\n",
        "| IncomeFromPension                      | Borrower's income from pension                                                                                                                                                                                                                                                                                                                                                                                                                                                                                      |\n",
        "| IncomeFromPrincipalEmployer            | Borrower's income from its employer                                                                                                                                                                                                                                                                                                                                                                                                                                                                                 |\n",
        "| IncomeFromSocialWelfare                | Borrower's income from social support                                                                                                                                                                                                                                                                                                                                                                                                                                                                               |\n",
        "| IncomeOther                            | Borrower's income from other sources                                                                                                                                                                                                                                                                                                                                                                                                                                                                                |\n",
        "| IncomeTotal                            | Borrower's total income                                                                                                                                                                                                                                                                                                                                                                                                                                                                                             |\n",
        "| Interest                               | Maximum interest rate accepted in the loan application                                                                                                                                                                                                                                                                                                                                                                                                                                                              |\n",
        "| InterestAndPenaltyBalance              | Unpaid interest and penalties                                                                                                                                                                                                                                                                                                                                                                                                                                                                                       |\n",
        "| InterestAndPenaltyDebtServicingCost    | Service cost related to the recovery of the debt based on the interest and penalties of the investment                                                                                                                                                                                                                                                                                                                                                                                                              |\n",
        "| InterestAndPenaltyPaymentsMade         | Note owner received loan transfers earned interest, penalties total amount                                                                                                                                                                                                                                                                                                                                                                                                                                          |\n",
        "| InterestAndPenaltyWriteOffs            | Interest that was written off on the investment                                                                                                                                                                                                                                                                                                                                                                                                                                                                     |\n",
        "| InterestLateAmount                     | Interest debt amount                                                                                                                                                                                                                                                                                                                                                                                                                                                                                                |\n",
        "| InterestRecovery                       | Interest recovered due to collection process from in debt loans                                                                                                                                                                                                                                                                                                                                                                                                                                                     |\n",
        "| LanguageCode                           | 1 Estonian 2 English 3 Russian 4 Finnish 5 German 6 Spanish 9 Slovakian                                                                                                                                                                                                                                                                                                                                                                                                                                             |\n",
        "| LastPaymentOn                          | The date of the current last payment received from the borrower                                                                                                                                                                                                                                                                                                                                                                                                                                                     |\n",
        "| LiabilitiesTotal                       | Total monthly liabilities                                                                                                                                                                                                                                                                                                                                                                                                                                                                                           |\n",
        "| ListedOnUTC                            | Date when the loan application appeared on Primary Market                                                                                                                                                                                                                                                                                                                                                                                                                                                           |\n",
        "| LoanDate                               | Date when the loan was issued                                                                                                                                                                                                                                                                                                                                                                                                                                                                                       |\n",
        "| LoanDuration                           | Current loan duration in months                                                                                                                                                                                                                                                                                                                                                                                                                                                                                     |\n",
        "| LoanId                                 | A unique ID given to all loan applications                                                                                                                                                                                                                                                                                                                                                                                                                                                                          |\n",
        "| LoanNumber                             | A unique number given to all loan applications                                                                                                                                                                                                                                                                                                                                                                                                                                                                      |\n",
        "| LoanStatusActiveFrom                   | How long the current status has been active                                                                                                                                                                                                                                                                                                                                                                                                                                                                         |\n",
        "| LossGivenDefault                       | Gives the percentage of outstanding exposure at the time of default that an investor is likely to lose if a loan actually defaults. This means the proportion of funds lost for the investor after all expected recovery and accounting for the time value of the money recovered. In general, LGD parameter is intended to be estimated based on the historical recoveries. However, in new markets where limited experience does not allow us more precise loss given default estimates, a LGD of 90% is assumed. |\n",
        "| MaritalStatus                          | 1 Married 2 Cohabitant 3 Single 4 Divorced 5 Widow                                                                                                                                                                                                                                                                                                                                                                                                                                                                  |\n",
        "| MaturityDate_Last                      | Loan maturity date according to the current payment schedule                                                                                                                                                                                                                                                                                                                                                                                                                                                        |\n",
        "| MaturityDate_Original                  | Loan maturity date according to the original loan schedule                                                                                                                                                                                                                                                                                                                                                                                                                                                          |\n",
        "| ModelVersion                           | The version of the Rating model used for issuing the Bondora Rating                                                                                                                                                                                                                                                                                                                                                                                                                                                 |\n",
        "| MonthlyPayment                         | Estimated amount the borrower has to pay every month                                                                                                                                                                                                                                                                                                                                                                                                                                                                |\n",
        "| MonthlyPaymentDay                      | The day of the month the loan payments are scheduled for The actual date is adjusted for weekends and bank holidays (e.g. if 10th is Sunday then the payment will be made on the 11th in that month)                                                                                                                                                                                                                                                                                                                |\n",
        "| NewCreditCustomer                      | Did the customer have prior credit history in Bondora 0 Customer had at least 3 months of credit history in Bondora 1 No prior credit history in Bondora                                                                                                                                                                                                                                                                                                                                                            |\n",
        "| NextPaymentDate                        | According to schedule the next date for borrower to make their payment                                                                                                                                                                                                                                                                                                                                                                                                                                              |\n",
        "| NextPaymentNr                          | According to schedule the number of the next payment                                                                                                                                                                                                                                                                                                                                                                                                                                                                |\n",
        "| NextPaymentSum                         | According to schedule the amount of the next payment                                                                                                                                                                                                                                                                                                                                                                                                                                                                |\n",
        "| NoOfPreviousLoansBeforeLoan            | Number of previous loans                                                                                                                                                                                                                                                                                                                                                                                                                                                                                            |\n",
        "| note_id                                | A unique ID given to the investments                                                                                                                                                                                                                                                                                                                                                                                                                                                                                |\n",
        "| NoteLoanLateChargesPaid                | The amount of late charges the note has received                                                                                                                                                                                                                                                                                                                                                                                                                                                                    |\n",
        "| NoteLoanTransfersInterestAmount        | The amount of interest the note has received                                                                                                                                                                                                                                                                                                                                                                                                                                                                        |\n",
        "| NoteLoanTransfersMainAmount            | The amount of principal the note has received                                                                                                                                                                                                                                                                                                                                                                                                                                                                       |\n",
        "| NrOfDependants                         | Number of children or other dependants                                                                                                                                                                                                                                                                                                                                                                                                                                                                              |\n",
        "| NrOfScheduledPayments                  | According to schedule the count of scheduled payments                                                                                                                                                                                                                                                                                                                                                                                                                                                               |\n",
        "| OccupationArea                         | 1 Other 2 Mining 3 Processing 4 Energy 5 Utilities 6 Construction 7 Retail and wholesale 8 Transport and warehousing 9 Hospitality and catering 10 Info and telecom 11 Finance and insurance 12 Real-estate 13 Research 14 Administrative 15 Civil service & military 16 Education 17 Healthcare and social help 18 Art and entertainment 19 Agriculture, forestry and fishing                                                                                                                                      |\n",
        "| OnSaleSince                            | Time when the investment was added to Secondary Market                                                                                                                                                                                                                                                                                                                                                                                                                                                              |\n",
        "| PenaltyLateAmount                      | Late charges debt amount                                                                                                                                                                                                                                                                                                                                                                                                                                                                                            |\n",
        "| PlannedInterestPostDefault             | The amount of interest that was planned to be received after the default occurred                                                                                                                                                                                                                                                                                                                                                                                                                                   |\n",
        "| PlannedInterestTillDate                | According to active schedule the amount of interest the investment should have received                                                                                                                                                                                                                                                                                                                                                                                                                             |\n",
        "| PlannedPrincipalPostDefault            | The amount of principal that was planned to be received after the default occurred                                                                                                                                                                                                                                                                                                                                                                                                                                  |\n",
        "| PlannedPrincipalTillDate               | According to active schedule the amount of principal the investment should have received                                                                                                                                                                                                                                                                                                                                                                                                                            |\n",
        "| PreviousEarlyRepaymentsBeforeLoan      | How much was the early repayment amount before the loan                                                                                                                                                                                                                                                                                                                                                                                                                                                             |\n",
        "| PreviousEarlyRepaymentsCountBeforeLoan | How many times the borrower had repaid early                                                                                                                                                                                                                                                                                                                                                                                                                                                                        |\n",
        "| PreviousRepaymentsBeforeLoan           | How much the borrower had repaid before the loan                                                                                                                                                                                                                                                                                                                                                                                                                                                                    |\n",
        "| PrincipalBalance                       | Principal that still needs to be paid by the borrower                                                                                                                                                                                                                                                                                                                                                                                                                                                               |\n",
        "| PrincipalDebtServicingCost             | Service cost related to the recovery of the debt based on the principal of the investment                                                                                                                                                                                                                                                                                                                                                                                                                           |\n",
        "| PrincipalLateAmount                    | Principal debt amount                                                                                                                                                                                                                                                                                                                                                                                                                                                                                               |\n",
        "| PrincipalOverdueBySchedule             | According to the current schedule, principal that is overdue                                                                                                                                                                                                                                                                                                                                                                                                                                                        |\n",
        "| PrincipalPaymentsMade                  | Note owner received loan transfers principal amount                                                                                                                                                                                                                                                                                                                                                                                                                                                                 |\n",
        "| PrincipalRecovery                      | Principal recovered due to collection process from in debt loans                                                                                                                                                                                                                                                                                                                                                                                                                                                    |\n",
        "| PrincipalWriteOffs                     | Principal that was written off on the investment                                                                                                                                                                                                                                                                                                                                                                                                                                                                    |\n",
        "| ProbabilityOfDefault                   | Probability of Default, refers to a loan’s probability of default within one year horizon.                                                                                                                                                                                                                                                                                                                                                                                                                          |\n",
        "| PurchasePrice                          | Investment amount or secondary market purchase price                                                                                                                                                                                                                                                                                                                                                                                                                                                                |\n",
        "| Rating                                 | Bondora Rating issued by the Rating model                                                                                                                                                                                                                                                                                                                                                                                                                                                                           |\n",
        "| Rating_V0                              | Bondora Rating issued by version 0 of the Rating model                                                                                                                                                                                                                                                                                                                                                                                                                                                              |\n",
        "| Rating_V1                              | Bondora Rating issued by version 1 of the Rating model                                                                                                                                                                                                                                                                                                                                                                                                                                                              |\n",
        "| Rating_V2                              | Bondora Rating issued by version 2 of the Rating model                                                                                                                                                                                                                                                                                                                                                                                                                                                              |\n",
        "| RecoveryStage                          | Current stage according to the recovery model 1 Collection 2 Recovery 3 Write Off                                                                                                                                                                                                                                                                                                                                                                                                                                   |\n",
        "| RefinanceLiabilities                   | The total amount of liabilities after refinancing                                                                                                                                                                                                                                                                                                                                                                                                                                                                   |\n",
        "| ReScheduledOn                          | The date when the a new schedule was assigned to the borrower                                                                                                                                                                                                                                                                                                                                                                                                                                                       |\n",
        "| Restructured                           | The original maturity date of the loan has been increased by more than 60 days                                                                                                                                                                                                                                                                                                                                                                                                                                      |\n",
        "| SoldInResale_Date                      | The date when the investment was sold on Secondary market                                                                                                                                                                                                                                                                                                                                                                                                                                                           |\n",
        "| SoldInResale_Price                     | The price of the investment that was sold on Secondary market                                                                                                                                                                                                                                                                                                                                                                                                                                                       |\n",
        "| SoldInResale_Principal                 | The principal remaining of the investment that was sold on Secondary market                                                                                                                                                                                                                                                                                                                                                                                                                                         |\n",
        "| StageActiveSince                       | How long the current recovery stage has been active                                                                                                                                                                                                                                                                                                                                                                                                                                                                 |\n",
        "| Status                                 | The current status of the loan application                                                                                                                                                                                                                                                                                                                                                                                                                                                                          |\n",
        "| UseOfLoan                              | 0 Loan consolidation 1 Real estate 2 Home improvement 3 Business 4 Education 5 Travel 6 Vehicle 7 Other 8 Health 101 Working capital financing 102 Purchase of machinery equipment 103 Renovation of real estate 104 Accounts receivable financing 105 Acquisition of means of transport 106 Construction finance 107 Acquisition of stocks 108 Acquisition of real estate 109 Guaranteeing obligation 110 Other business All codes in format 1XX are for business loans that are not supported since October 2012  |\n",
        "| UserName                               | The user name generated by the system for the borrower                                                                                                                                                                                                                                                                                                                                                                                                                                                              |\n",
        "| VerificationType                       | Method used for loan application data verification 0 Not set 1 Income unverified 2 Income unverified, cross-referenced by phone 3 Income verified 4 Income and expenses verified                                                                                                                                                                                                                                                                                                                                    |\n",
        "| WorkExperience                         | Borrower's overall work experience in years                                                                                                                                                                                                                                                                                                                                                                                                                                                                         |\n",
        "| WorseLateCategory                      | Displays the last longest period of days when the loan was in Principal Debt                                                                                                                                                                                                                                                                                                                                                                                                                                        |\n",
        "| XIRR                                   | XIRR (extended internal rate of return) is a methodology to calculate the net return using the loan issued date and amount, loan repayment dates and amounts and the principal balance according to the original repayment date. All overdue principal payments are written off immediately. No provisions for future losses are made & only received (not accrued or scheduled) interest payments are taken into account.                                                                                          |"
      ]
    },
    {
      "cell_type": "markdown",
      "metadata": {
        "id": "8H2vDcRFcOf0"
      },
      "source": [
        "# Percentage of Missing Values"
      ]
    },
    {
      "cell_type": "code",
      "execution_count": null,
      "metadata": {
        "id": "1T2BzyeLcOf3",
        "outputId": "2832f0a0-a28a-4784-da8e-439a9792095c"
      },
      "outputs": [
        {
          "data": {
            "text/plain": [
              "ReportAsOfEOD                              0.0\n",
              "LoanId                                     0.0\n",
              "LoanNumber                                 0.0\n",
              "ListedOnUTC                                0.0\n",
              "BiddingStartedOn                           0.0\n",
              "BidsPortfolioManager                       0.0\n",
              "BidsApi                                    0.0\n",
              "BidsManual                                 0.0\n",
              "UserName                                   0.0\n",
              "NewCreditCustomer                          0.0\n",
              "LoanApplicationStartedDate                 0.0\n",
              "LoanDate                                   0.0\n",
              "ContractEndDate                           56.0\n",
              "FirstPaymentDate                           0.0\n",
              "MaturityDate_Original                      0.0\n",
              "MaturityDate_Last                          0.0\n",
              "ApplicationSignedHour                      0.0\n",
              "ApplicationSignedWeekday                   0.0\n",
              "VerificationType                           0.0\n",
              "LanguageCode                               0.0\n",
              "Age                                        0.0\n",
              "DateOfBirth                                0.0\n",
              "Gender                                     0.0\n",
              "Country                                    0.0\n",
              "AppliedAmount                              0.0\n",
              "Amount                                     0.0\n",
              "Interest                                   0.0\n",
              "LoanDuration                               0.0\n",
              "MonthlyPayment                             5.0\n",
              "County                                    27.0\n",
              "City                                       7.0\n",
              "UseOfLoan                                  0.0\n",
              "Education                                  0.0\n",
              "MaritalStatus                              0.0\n",
              "NrOfDependants                            74.0\n",
              "EmploymentStatus                           0.0\n",
              "EmploymentDurationCurrentEmployer          1.0\n",
              "EmploymentPosition                        73.0\n",
              "WorkExperience                            73.0\n",
              "OccupationArea                             0.0\n",
              "HomeOwnershipType                          1.0\n",
              "IncomeFromPrincipalEmployer                0.0\n",
              "IncomeFromPension                          0.0\n",
              "IncomeFromFamilyAllowance                  0.0\n",
              "IncomeFromSocialWelfare                    0.0\n",
              "IncomeFromLeavePay                         0.0\n",
              "IncomeFromChildSupport                     0.0\n",
              "IncomeOther                                0.0\n",
              "IncomeTotal                                0.0\n",
              "ExistingLiabilities                        0.0\n",
              "LiabilitiesTotal                           0.0\n",
              "RefinanceLiabilities                       0.0\n",
              "DebtToIncome                               0.0\n",
              "FreeCash                                   0.0\n",
              "MonthlyPaymentDay                          0.0\n",
              "ActiveScheduleFirstPaymentReached          0.0\n",
              "PlannedPrincipalTillDate                  60.0\n",
              "PlannedInterestTillDate                    3.0\n",
              "LastPaymentOn                              7.0\n",
              "CurrentDebtDaysPrimary                    64.0\n",
              "DebtOccuredOn                             64.0\n",
              "CurrentDebtDaysSecondary                  61.0\n",
              "DebtOccuredOnForSecondary                 61.0\n",
              "ExpectedLoss                               2.0\n",
              "LossGivenDefault                           2.0\n",
              "ExpectedReturn                             2.0\n",
              "ProbabilityOfDefault                       2.0\n",
              "DefaultDate                               68.0\n",
              "PrincipalOverdueBySchedule                11.0\n",
              "PlannedPrincipalPostDefault               68.0\n",
              "PlannedInterestPostDefault                68.0\n",
              "EAD1                                      68.0\n",
              "EAD2                                      68.0\n",
              "PrincipalRecovery                         68.0\n",
              "InterestRecovery                          68.0\n",
              "RecoveryStage                             43.0\n",
              "StageActiveSince                          40.0\n",
              "ModelVersion                               2.0\n",
              "Rating                                     2.0\n",
              "EL_V0                                     97.0\n",
              "Rating_V0                                 97.0\n",
              "EL_V1                                     90.0\n",
              "Rating_V1                                 90.0\n",
              "Rating_V2                                 81.0\n",
              "Status                                     0.0\n",
              "Restructured                               0.0\n",
              "ActiveLateCategory                        64.0\n",
              "WorseLateCategory                         34.0\n",
              "CreditScoreEsMicroL                       22.0\n",
              "CreditScoreEsEquifaxRisk                  91.0\n",
              "CreditScoreFiAsiakasTietoRiskGrade        76.0\n",
              "CreditScoreEeMini                         47.0\n",
              "PrincipalPaymentsMade                      0.0\n",
              "InterestAndPenaltyPaymentsMade             0.0\n",
              "PrincipalWriteOffs                        56.0\n",
              "InterestAndPenaltyWriteOffs               56.0\n",
              "PrincipalBalance                           0.0\n",
              "InterestAndPenaltyBalance                  0.0\n",
              "NoOfPreviousLoansBeforeLoan                0.0\n",
              "AmountOfPreviousLoansBeforeLoan            0.0\n",
              "PreviousRepaymentsBeforeLoan              32.0\n",
              "PreviousEarlyRepaymentsBefoleLoan         57.0\n",
              "PreviousEarlyRepaymentsCountBeforeLoan     0.0\n",
              "GracePeriodStart                          86.0\n",
              "GracePeriodEnd                            86.0\n",
              "NextPaymentDate                           51.0\n",
              "NextPaymentNr                             27.0\n",
              "NrOfScheduledPayments                     27.0\n",
              "ReScheduledOn                             70.0\n",
              "PrincipalDebtServicingCost                56.0\n",
              "InterestAndPenaltyDebtServicingCost       56.0\n",
              "ActiveLateLastPaymentCategory             61.0\n",
              "dtype: float64"
            ]
          },
          "execution_count": 6,
          "metadata": {},
          "output_type": "execute_result"
        }
      ],
      "source": [
        "# To show all the rows of pandas dataframe"
      ]
    },
    {
      "cell_type": "markdown",
      "metadata": {
        "id": "3MX6WsyUcOf5"
      },
      "source": [
        "Removing all the features which have more than 40% missing values"
      ]
    },
    {
      "cell_type": "code",
      "execution_count": null,
      "metadata": {
        "id": "kRT67w4KcOf6",
        "outputId": "0b2a2300-ed76-4d00-ea88-584536d0de4d"
      },
      "outputs": [
        {
          "name": "stdout",
          "output_type": "stream",
          "text": [
            "Index(['ContractEndDate', 'NrOfDependants', 'EmploymentPosition',\n",
            "       'WorkExperience', 'PlannedPrincipalTillDate', 'CurrentDebtDaysPrimary',\n",
            "       'DebtOccuredOn', 'CurrentDebtDaysSecondary',\n",
            "       'DebtOccuredOnForSecondary', 'DefaultDate',\n",
            "       'PlannedPrincipalPostDefault', 'PlannedInterestPostDefault', 'EAD1',\n",
            "       'EAD2', 'PrincipalRecovery', 'InterestRecovery', 'RecoveryStage',\n",
            "       'EL_V0', 'Rating_V0', 'EL_V1', 'Rating_V1', 'Rating_V2',\n",
            "       'ActiveLateCategory', 'CreditScoreEsEquifaxRisk',\n",
            "       'CreditScoreFiAsiakasTietoRiskGrade', 'CreditScoreEeMini',\n",
            "       'PrincipalWriteOffs', 'InterestAndPenaltyWriteOffs',\n",
            "       'PreviousEarlyRepaymentsBefoleLoan', 'GracePeriodStart',\n",
            "       'GracePeriodEnd', 'NextPaymentDate', 'ReScheduledOn',\n",
            "       'PrincipalDebtServicingCost', 'InterestAndPenaltyDebtServicingCost',\n",
            "       'ActiveLateLastPaymentCategory'],\n",
            "      dtype='object')\n"
          ]
        }
      ],
      "source": [
        "# removing the columns having more than 40% missing values"
      ]
    },
    {
      "cell_type": "code",
      "execution_count": null,
      "metadata": {
        "id": "Jikc0Mz_cOf8"
      },
      "outputs": [],
      "source": [
        "# print missing values columns \n",
        "miss_col=['ContractEndDate', 'NrOfDependants', 'EmploymentPosition',\n",
        "       'WorkExperience', 'PlannedPrincipalTillDate', 'CurrentDebtDaysPrimary',\n",
        "       'DebtOccuredOn', 'CurrentDebtDaysSecondary',\n",
        "       'DebtOccuredOnForSecondary',\n",
        "       'PlannedPrincipalPostDefault', 'PlannedInterestPostDefault', 'EAD1',\n",
        "       'EAD2', 'PrincipalRecovery', 'InterestRecovery', 'RecoveryStage',\n",
        "       'EL_V0', 'Rating_V0', 'EL_V1', 'Rating_V1', 'Rating_V2',\n",
        "       'ActiveLateCategory', 'CreditScoreEsEquifaxRisk',\n",
        "       'CreditScoreFiAsiakasTietoRiskGrade', 'CreditScoreEeMini',\n",
        "       'PrincipalWriteOffs', 'InterestAndPenaltyWriteOffs',\n",
        "       'PreviousEarlyRepaymentsBefoleLoan', 'GracePeriodStart',\n",
        "       'GracePeriodEnd', 'NextPaymentDate', 'ReScheduledOn',\n",
        "       'PrincipalDebtServicingCost', 'InterestAndPenaltyDebtServicingCost',\n",
        "       'ActiveLateLastPaymentCategory']"
      ]
    },
    {
      "cell_type": "code",
      "execution_count": null,
      "metadata": {
        "id": "zIDqSW_ecOgA",
        "outputId": "17d1bb20-1d38-4036-d3a3-91a9e63b71e8"
      },
      "outputs": [
        {
          "name": "stdout",
          "output_type": "stream",
          "text": [
            "(134529, 77)\n"
          ]
        }
      ],
      "source": [
        "# drop missing  values columns )\n"
      ]
    },
    {
      "cell_type": "code",
      "execution_count": null,
      "metadata": {
        "id": "ekWSbBRdcOgC",
        "outputId": "ce89a2af-7df5-4516-d36a-d088dd1660d0"
      },
      "outputs": [
        {
          "data": {
            "text/plain": [
              "0   NaN\n",
              "1   NaN\n",
              "2   NaN\n",
              "3   NaN\n",
              "4   NaN\n",
              "Name: NrOfScheduledPayments, dtype: float64"
            ]
          },
          "execution_count": 10,
          "metadata": {},
          "output_type": "execute_result"
        }
      ],
      "source": [
        "loan['NrOfScheduledPayments'].head()"
      ]
    },
    {
      "cell_type": "markdown",
      "metadata": {
        "id": "V_WiF5B5cOgD"
      },
      "source": [
        "Apart from missing value features there are some features which will have no role in default prediction like 'ReportAsOfEOD', 'LoanId', 'LoanNumber', 'ListedOnUTC', 'DateOfBirth' (**because age is already present**), 'BiddingStartedOn','UserName','NextPaymentNr','NrOfScheduledPayments','IncomeFromPrincipalEmployer', 'IncomeFromPension',\n",
        "'IncomeFromFamilyAllowance', 'IncomeFromSocialWelfare','IncomeFromLeavePay', 'IncomeFromChildSupport', 'IncomeOther' (**As Total income is already present which is total of all these income**), 'LoanApplicationStartedDate','ApplicationSignedHour',\n",
        "       'ApplicationSignedWeekday','ActiveScheduleFirstPaymentReached', 'PlannedInterestTillDate',\n",
        "       'LastPaymentOn', 'ExpectedLoss', 'LossGivenDefault', 'ExpectedReturn',\n",
        "       'ProbabilityOfDefault', 'PrincipalOverdueBySchedule',\n",
        "       'StageActiveSince', 'ModelVersion','WorseLateCategory'"
      ]
    },
    {
      "cell_type": "code",
      "execution_count": null,
      "metadata": {
        "id": "z0HlXLo_cOgD"
      },
      "outputs": [],
      "source": [
        "cols_del = ['ReportAsOfEOD', 'LoanId', 'LoanNumber', 'ListedOnUTC', 'DateOfBirth',\n",
        "       'BiddingStartedOn','UserName','NextPaymentNr',\n",
        "       'NrOfScheduledPayments','IncomeFromPrincipalEmployer', 'IncomeFromPension',\n",
        "       'IncomeFromFamilyAllowance', 'IncomeFromSocialWelfare',\n",
        "       'IncomeFromLeavePay', 'IncomeFromChildSupport', 'IncomeOther','LoanApplicationStartedDate','ApplicationSignedHour',\n",
        "       'ApplicationSignedWeekday','ActiveScheduleFirstPaymentReached', 'PlannedInterestTillDate',\n",
        "       'ExpectedLoss', 'LossGivenDefault', 'ExpectedReturn',\n",
        "       'ProbabilityOfDefault', 'PrincipalOverdueBySchedule',\n",
        "       'StageActiveSince', 'ModelVersion','WorseLateCategory']"
      ]
    },
    {
      "cell_type": "code",
      "execution_count": null,
      "metadata": {
        "id": "tLY5tF5QcOgF"
      },
      "outputs": [],
      "source": [
        "loan = loan.drop(cols_del,axis=1)"
      ]
    },
    {
      "cell_type": "code",
      "execution_count": null,
      "metadata": {
        "id": "SuLhEUDqcOgG",
        "outputId": "05c967e4-47a6-47d4-d008-322abb7cae84"
      },
      "outputs": [
        {
          "data": {
            "text/plain": [
              "(134529, 48)"
            ]
          },
          "execution_count": 13,
          "metadata": {},
          "output_type": "execute_result"
        }
      ],
      "source": [
        "loan.shape"
      ]
    },
    {
      "cell_type": "markdown",
      "metadata": {
        "id": "MZ547QSVcOgH"
      },
      "source": [
        "## Creating Target Variable\n",
        "\n",
        "Here, status is the variable which help us in creating target variable. The reason for not making status as target variable is that it has three unique values **current, Late and repaid**. There is no default feature but there is a feature **default date** which tells us when the borrower has defaulted means on which date the borrower defaulted. So, we will be combining **Status** and **Default date** features for creating target  variable.The reason we cannot simply treat Late as default because it also has some records in which actual status is Late but the user has never defaulted i.e., default date is null.\n",
        "So we will first filter out all the current status records because they are not matured yet they are current loans. "
      ]
    },
    {
      "cell_type": "code",
      "execution_count": null,
      "metadata": {
        "id": "srXIqyPwcOgI",
        "outputId": "ad84e1bd-1ed4-45c8-b146-45d0ae436651"
      },
      "outputs": [
        {
          "data": {
            "text/plain": [
              "Current    57135\n",
              "Late       45772\n",
              "Repaid     31622\n",
              "Name: Status, dtype: int64"
            ]
          },
          "execution_count": 14,
          "metadata": {},
          "output_type": "execute_result"
        }
      ],
      "source": [
        "# let's find the counts of each status categories "
      ]
    },
    {
      "cell_type": "code",
      "execution_count": null,
      "metadata": {
        "id": "o14N3xVDcOgK"
      },
      "outputs": [],
      "source": [
        "# filtering out Current Status records\n"
      ]
    },
    {
      "cell_type": "markdown",
      "metadata": {
        "id": "1Kehn_zacOgK"
      },
      "source": [
        "Now, we will create new target variable in which 0 will be assigned when default date is null means borrower has never defaulted while 1 in case default date is present."
      ]
    },
    {
      "cell_type": "code",
      "execution_count": null,
      "metadata": {
        "id": "QaYozEf8cOgL"
      },
      "outputs": [],
      "source": [
        "# write your code here"
      ]
    },
    {
      "cell_type": "code",
      "execution_count": null,
      "metadata": {
        "id": "LFHBZhdHcOgM"
      },
      "outputs": [],
      "source": [
        "# check the counts of default and nondefault "
      ]
    },
    {
      "cell_type": "code",
      "execution_count": null,
      "metadata": {
        "id": "QB0Tb-n-cOgN"
      },
      "outputs": [],
      "source": [
        "# let's drop the status columns"
      ]
    },
    {
      "cell_type": "code",
      "execution_count": null,
      "metadata": {
        "id": "imTJQhpTcOgS"
      },
      "outputs": [],
      "source": [
        "loan.head()"
      ]
    },
    {
      "cell_type": "markdown",
      "metadata": {
        "id": "qVUZYEVlcOgT"
      },
      "source": [
        "Now, we will remove Loan Status and default date as we have already created target variable with the help of these two features"
      ]
    },
    {
      "cell_type": "code",
      "execution_count": null,
      "metadata": {
        "id": "2Hgs_7-5cOgU"
      },
      "outputs": [],
      "source": [
        "# let's drop the DefaultDate column"
      ]
    },
    {
      "cell_type": "code",
      "execution_count": null,
      "metadata": {
        "id": "yp1UPU9ZcOgV"
      },
      "outputs": [],
      "source": [
        "loan.shape"
      ]
    },
    {
      "cell_type": "markdown",
      "metadata": {
        "id": "Zetfg1sIcOgV"
      },
      "source": [
        "## checking datatype of all features\n",
        "In this step we will see any data type mismatch"
      ]
    },
    {
      "cell_type": "code",
      "execution_count": null,
      "metadata": {
        "id": "jydMujjscOgW"
      },
      "outputs": [],
      "source": [
        "# write your code here"
      ]
    },
    {
      "cell_type": "markdown",
      "metadata": {
        "id": "D0qdcmoAcOgW"
      },
      "source": [
        "Checking distribution of categorical variables"
      ]
    },
    {
      "cell_type": "code",
      "execution_count": null,
      "metadata": {
        "id": "BVBK7c3IcOgX"
      },
      "outputs": [],
      "source": [
        "# write your code here"
      ]
    },
    {
      "cell_type": "markdown",
      "metadata": {
        "id": "mBpXyzeZcOgY"
      },
      "source": [
        "checking distribution of all numeric columns"
      ]
    },
    {
      "cell_type": "code",
      "execution_count": null,
      "metadata": {
        "id": "ljfOPwe2cOgY"
      },
      "outputs": [],
      "source": [
        "# write your code here"
      ]
    },
    {
      "cell_type": "markdown",
      "metadata": {
        "id": "5kio25h2cOgZ"
      },
      "source": [
        "- First we will delete all the features related to date as it is not a time series analysis so these features will not help in predicting target variable.\n",
        "- As we can see in numeric column distribution there are many columns which are present as numeric but they are actually categorical as per data description such as Verification Type, Language Code, Gender, Use of Loan, Education, Marital Status,EmployementStatus, OccupationArea etc.\n",
        "- So we will convert these features to categorical features"
      ]
    },
    {
      "cell_type": "markdown",
      "metadata": {
        "id": "413QTrf9cOga"
      },
      "source": [
        "Now we will check the distribution of different categorical variables"
      ]
    },
    {
      "cell_type": "code",
      "execution_count": null,
      "metadata": {
        "id": "bAA78wkrcOga"
      },
      "outputs": [],
      "source": [
        "# write your code here for VerificationType"
      ]
    },
    {
      "cell_type": "code",
      "execution_count": null,
      "metadata": {
        "id": "bTkFv03XcOgb"
      },
      "outputs": [],
      "source": [
        "# write your code here"
      ]
    },
    {
      "cell_type": "code",
      "execution_count": null,
      "metadata": {
        "id": "IK8V06tWcOgb"
      },
      "outputs": [],
      "source": [
        "# write your code here Gender"
      ]
    },
    {
      "cell_type": "code",
      "execution_count": null,
      "metadata": {
        "id": "ad5Opdl6cOgc"
      },
      "outputs": [],
      "source": [
        "# write your code here"
      ]
    },
    {
      "cell_type": "code",
      "execution_count": null,
      "metadata": {
        "id": "nF1t-E0ycOgd"
      },
      "outputs": [],
      "source": [
        "# write your code here LanguageCode\n"
      ]
    },
    {
      "cell_type": "markdown",
      "metadata": {
        "id": "cphoYg2xcOge"
      },
      "source": [
        "As we can see from above in language code w ehave only descriptions for values 1,2,3,4,5,6, and 9 but it has other values too like 21,22,15,13,10 and 7 but they are very less it may happen they are local language codes whose decription is not present so we will be treated all these values as others"
      ]
    },
    {
      "cell_type": "code",
      "execution_count": null,
      "metadata": {
        "id": "ADkX_OuZcOgf"
      },
      "outputs": [],
      "source": [
        "# write your code here\n"
      ]
    },
    {
      "cell_type": "code",
      "execution_count": null,
      "metadata": {
        "id": "nZ6L-7zEcOgf"
      },
      "outputs": [],
      "source": [
        "# write your code here for UseOfLoan"
      ]
    },
    {
      "cell_type": "markdown",
      "metadata": {
        "id": "YGBBG-p1cOgg"
      },
      "source": [
        "As we can see from above stats most of the loans are -1 category whose description is not avaialble in Bondoro website so we have dig deeper to find that in Bondora most of the loans happened for which purpose so we find in Bondora [Statistics Page](https://www.bondora.com/en/public-statistics) most of the loans around 34.81% are for Not set purpose. so we will encode -1 as Not set category"
      ]
    },
    {
      "cell_type": "code",
      "execution_count": null,
      "metadata": {
        "id": "MbmkIH-FcOgg"
      },
      "outputs": [],
      "source": [
        "# write your code here"
      ]
    },
    {
      "cell_type": "code",
      "execution_count": null,
      "metadata": {
        "id": "X0x9n6K2cOgh"
      },
      "outputs": [],
      "source": [
        "# write your code here for Education"
      ]
    },
    {
      "cell_type": "markdown",
      "metadata": {
        "id": "p6KTWR96cOgi"
      },
      "source": [
        "Again as we can see from above description for -1 and 0 in case of education is not present so we will encode them as Not_present as we dont know anything about them."
      ]
    },
    {
      "cell_type": "code",
      "execution_count": null,
      "metadata": {
        "id": "OgFjsyCxcOgi"
      },
      "outputs": [],
      "source": [
        "# write your code here"
      ]
    },
    {
      "cell_type": "code",
      "execution_count": null,
      "metadata": {
        "id": "B4YsV3WYcOgj"
      },
      "outputs": [],
      "source": [
        "# write your code here for MaritalStatus"
      ]
    },
    {
      "cell_type": "markdown",
      "metadata": {
        "id": "MEBT0ZBtcOgj"
      },
      "source": [
        "Again Marital status of value 0 and -1 has no description so we will encode them as Not_specified"
      ]
    },
    {
      "cell_type": "code",
      "execution_count": null,
      "metadata": {
        "id": "pUPLh8rxcOgk"
      },
      "outputs": [],
      "source": [
        "# write your code here"
      ]
    },
    {
      "cell_type": "code",
      "execution_count": null,
      "metadata": {
        "id": "o98Bn1cPcOgl"
      },
      "outputs": [],
      "source": [
        "# write your code here for EmploymentStatus"
      ]
    },
    {
      "cell_type": "code",
      "execution_count": null,
      "metadata": {
        "id": "kFuQZOPGcOgl"
      },
      "outputs": [],
      "source": [
        "# write your code here for NewCreditCustome"
      ]
    },
    {
      "cell_type": "code",
      "execution_count": null,
      "metadata": {
        "id": "If6roAANcOgm"
      },
      "outputs": [],
      "source": [
        "# write your code here for Restructured"
      ]
    },
    {
      "cell_type": "code",
      "execution_count": null,
      "metadata": {
        "id": "9TB9PHhYcOgn"
      },
      "outputs": [],
      "source": [
        "# write your code here for OccupationArea"
      ]
    },
    {
      "cell_type": "code",
      "execution_count": null,
      "metadata": {
        "id": "6kQ0rs-mcOgo"
      },
      "outputs": [],
      "source": [
        "# write your code here for EmploymentStatus\n",
        "\n",
        "# write your code here for NewCreditCustomer\n",
        "\n",
        "# write your code here for Restructured\n",
        "\n",
        "# write your code here for OccupationArea\n"
      ]
    },
    {
      "cell_type": "code",
      "execution_count": null,
      "metadata": {
        "id": "zpdqXYpzcOgo"
      },
      "outputs": [],
      "source": [
        "# write your code here for counts of EmploymentStatus \n"
      ]
    },
    {
      "cell_type": "code",
      "execution_count": null,
      "metadata": {
        "id": "yjlJF3mbcOgp"
      },
      "outputs": [],
      "source": [
        "# write your code here for counts of OccupationArea \n"
      ]
    },
    {
      "cell_type": "code",
      "execution_count": null,
      "metadata": {
        "id": "cFx1AeNXcOgq"
      },
      "outputs": [],
      "source": [
        "# write your code here for counts of Restructured\n"
      ]
    },
    {
      "cell_type": "code",
      "execution_count": null,
      "metadata": {
        "id": "m2yKp2uqcOgq"
      },
      "outputs": [],
      "source": [
        "# write your code here for counts of NewCreditCustomer"
      ]
    },
    {
      "cell_type": "code",
      "execution_count": null,
      "metadata": {
        "id": "dzCTe3eicOgr"
      },
      "outputs": [],
      "source": [
        "# write your code here for counts of HomeOwnershipType\n"
      ]
    },
    {
      "cell_type": "code",
      "execution_count": null,
      "metadata": {
        "id": "dbCQx_6YcOgs"
      },
      "outputs": [],
      "source": [
        "# save the final data\n",
        "loan.to_csv('Bondora_preprocessed.csv',index=False)"
      ]
    },
    {
      "cell_type": "code",
      "execution_count": null,
      "metadata": {
        "id": "MTlMLxn6cOgs"
      },
      "outputs": [],
      "source": [
        "df=pd.read_csv('Bondora_preprocessed.csv')"
      ]
    },
    {
      "cell_type": "code",
      "execution_count": null,
      "metadata": {
        "id": "-g1VyR_HcOgx"
      },
      "outputs": [],
      "source": [
        "df.head()"
      ]
    }
  ],
  "metadata": {
    "kernelspec": {
      "display_name": "Python 3",
      "language": "python",
      "name": "python3"
    },
    "language_info": {
      "codemirror_mode": {
        "name": "ipython",
        "version": 3
      },
      "file_extension": ".py",
      "mimetype": "text/x-python",
      "name": "python",
      "nbconvert_exporter": "python",
      "pygments_lexer": "ipython3",
      "version": "3.8.3"
    },
    "colab": {
      "provenance": [],
      "include_colab_link": true
    }
  },
  "nbformat": 4,
  "nbformat_minor": 0
}